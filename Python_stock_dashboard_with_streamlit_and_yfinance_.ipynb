{
  "nbformat": 4,
  "nbformat_minor": 0,
  "metadata": {
    "colab": {
      "provenance": [],
      "gpuType": "T4",
      "authorship_tag": "ABX9TyNg9eURfP4LVStH/pb+nn0+",
      "include_colab_link": true
    },
    "kernelspec": {
      "name": "python3",
      "display_name": "Python 3"
    },
    "language_info": {
      "name": "python"
    },
    "accelerator": "GPU"
  },
  "cells": [
    {
      "cell_type": "markdown",
      "metadata": {
        "id": "view-in-github",
        "colab_type": "text"
      },
      "source": [
        "<a href=\"https://colab.research.google.com/github/Fazloussatter/Python-stock-dashboard-with-streamlit-and-yfinance-.ipynb/blob/main/Python_stock_dashboard_with_streamlit_and_yfinance_.ipynb\" target=\"_parent\"><img src=\"https://colab.research.google.com/assets/colab-badge.svg\" alt=\"Open In Colab\"/></a>"
      ]
    },
    {
      "cell_type": "markdown",
      "source": [
        "#Installing streamlit"
      ],
      "metadata": {
        "id": "ySr9AONXAfx0"
      }
    },
    {
      "cell_type": "code",
      "metadata": {
        "colab": {
          "base_uri": "https://localhost:8080/"
        },
        "id": "98811979",
        "outputId": "ed74000d-c310-4006-ccd9-ca6db7c3c399"
      },
      "source": [
        "!pip install streamlit"
      ],
      "execution_count": 60,
      "outputs": [
        {
          "output_type": "stream",
          "name": "stdout",
          "text": [
            "Requirement already satisfied: streamlit in /usr/local/lib/python3.11/dist-packages (1.47.1)\n",
            "Requirement already satisfied: altair<6,>=4.0 in /usr/local/lib/python3.11/dist-packages (from streamlit) (5.5.0)\n",
            "Requirement already satisfied: blinker<2,>=1.5.0 in /usr/local/lib/python3.11/dist-packages (from streamlit) (1.9.0)\n",
            "Requirement already satisfied: cachetools<7,>=4.0 in /usr/local/lib/python3.11/dist-packages (from streamlit) (5.5.2)\n",
            "Requirement already satisfied: click<9,>=7.0 in /usr/local/lib/python3.11/dist-packages (from streamlit) (8.2.1)\n",
            "Requirement already satisfied: numpy<3,>=1.23 in /usr/local/lib/python3.11/dist-packages (from streamlit) (2.0.2)\n",
            "Requirement already satisfied: packaging<26,>=20 in /usr/local/lib/python3.11/dist-packages (from streamlit) (25.0)\n",
            "Requirement already satisfied: pandas<3,>=1.4.0 in /usr/local/lib/python3.11/dist-packages (from streamlit) (2.2.2)\n",
            "Requirement already satisfied: pillow<12,>=7.1.0 in /usr/local/lib/python3.11/dist-packages (from streamlit) (11.3.0)\n",
            "Requirement already satisfied: protobuf<7,>=3.20 in /usr/local/lib/python3.11/dist-packages (from streamlit) (5.29.5)\n",
            "Requirement already satisfied: pyarrow>=7.0 in /usr/local/lib/python3.11/dist-packages (from streamlit) (18.1.0)\n",
            "Requirement already satisfied: requests<3,>=2.27 in /usr/local/lib/python3.11/dist-packages (from streamlit) (2.32.3)\n",
            "Requirement already satisfied: tenacity<10,>=8.1.0 in /usr/local/lib/python3.11/dist-packages (from streamlit) (8.5.0)\n",
            "Requirement already satisfied: toml<2,>=0.10.1 in /usr/local/lib/python3.11/dist-packages (from streamlit) (0.10.2)\n",
            "Requirement already satisfied: typing-extensions<5,>=4.4.0 in /usr/local/lib/python3.11/dist-packages (from streamlit) (4.14.1)\n",
            "Requirement already satisfied: watchdog<7,>=2.1.5 in /usr/local/lib/python3.11/dist-packages (from streamlit) (6.0.0)\n",
            "Requirement already satisfied: gitpython!=3.1.19,<4,>=3.0.7 in /usr/local/lib/python3.11/dist-packages (from streamlit) (3.1.44)\n",
            "Requirement already satisfied: pydeck<1,>=0.8.0b4 in /usr/local/lib/python3.11/dist-packages (from streamlit) (0.9.1)\n",
            "Requirement already satisfied: tornado!=6.5.0,<7,>=6.0.3 in /usr/local/lib/python3.11/dist-packages (from streamlit) (6.4.2)\n",
            "Requirement already satisfied: jinja2 in /usr/local/lib/python3.11/dist-packages (from altair<6,>=4.0->streamlit) (3.1.6)\n",
            "Requirement already satisfied: jsonschema>=3.0 in /usr/local/lib/python3.11/dist-packages (from altair<6,>=4.0->streamlit) (4.25.0)\n",
            "Requirement already satisfied: narwhals>=1.14.2 in /usr/local/lib/python3.11/dist-packages (from altair<6,>=4.0->streamlit) (1.48.0)\n",
            "Requirement already satisfied: gitdb<5,>=4.0.1 in /usr/local/lib/python3.11/dist-packages (from gitpython!=3.1.19,<4,>=3.0.7->streamlit) (4.0.12)\n",
            "Requirement already satisfied: python-dateutil>=2.8.2 in /usr/local/lib/python3.11/dist-packages (from pandas<3,>=1.4.0->streamlit) (2.9.0.post0)\n",
            "Requirement already satisfied: pytz>=2020.1 in /usr/local/lib/python3.11/dist-packages (from pandas<3,>=1.4.0->streamlit) (2025.2)\n",
            "Requirement already satisfied: tzdata>=2022.7 in /usr/local/lib/python3.11/dist-packages (from pandas<3,>=1.4.0->streamlit) (2025.2)\n",
            "Requirement already satisfied: charset-normalizer<4,>=2 in /usr/local/lib/python3.11/dist-packages (from requests<3,>=2.27->streamlit) (3.4.2)\n",
            "Requirement already satisfied: idna<4,>=2.5 in /usr/local/lib/python3.11/dist-packages (from requests<3,>=2.27->streamlit) (3.10)\n",
            "Requirement already satisfied: urllib3<3,>=1.21.1 in /usr/local/lib/python3.11/dist-packages (from requests<3,>=2.27->streamlit) (2.5.0)\n",
            "Requirement already satisfied: certifi>=2017.4.17 in /usr/local/lib/python3.11/dist-packages (from requests<3,>=2.27->streamlit) (2025.7.14)\n",
            "Requirement already satisfied: smmap<6,>=3.0.1 in /usr/local/lib/python3.11/dist-packages (from gitdb<5,>=4.0.1->gitpython!=3.1.19,<4,>=3.0.7->streamlit) (5.0.2)\n",
            "Requirement already satisfied: MarkupSafe>=2.0 in /usr/local/lib/python3.11/dist-packages (from jinja2->altair<6,>=4.0->streamlit) (3.0.2)\n",
            "Requirement already satisfied: attrs>=22.2.0 in /usr/local/lib/python3.11/dist-packages (from jsonschema>=3.0->altair<6,>=4.0->streamlit) (25.3.0)\n",
            "Requirement already satisfied: jsonschema-specifications>=2023.03.6 in /usr/local/lib/python3.11/dist-packages (from jsonschema>=3.0->altair<6,>=4.0->streamlit) (2025.4.1)\n",
            "Requirement already satisfied: referencing>=0.28.4 in /usr/local/lib/python3.11/dist-packages (from jsonschema>=3.0->altair<6,>=4.0->streamlit) (0.36.2)\n",
            "Requirement already satisfied: rpds-py>=0.7.1 in /usr/local/lib/python3.11/dist-packages (from jsonschema>=3.0->altair<6,>=4.0->streamlit) (0.26.0)\n",
            "Requirement already satisfied: six>=1.5 in /usr/local/lib/python3.11/dist-packages (from python-dateutil>=2.8.2->pandas<3,>=1.4.0->streamlit) (1.17.0)\n"
          ]
        }
      ]
    },
    {
      "cell_type": "markdown",
      "source": [
        "#Importing essential libaries"
      ],
      "metadata": {
        "id": "d4jm_nsoBM8j"
      }
    },
    {
      "cell_type": "code",
      "source": [
        "import streamlit as st\n",
        "import yfinance as yf\n",
        "import pandas as pd\n",
        "import matplotlib.pyplot as plt"
      ],
      "metadata": {
        "id": "1Sqr--aEBDAm"
      },
      "execution_count": 61,
      "outputs": []
    },
    {
      "cell_type": "markdown",
      "source": [
        "#Setting the page title"
      ],
      "metadata": {
        "id": "4W6hcrtzBbkg"
      }
    },
    {
      "cell_type": "code",
      "source": [
        "st.title(\"Stock Data Dashboard\")"
      ],
      "metadata": {
        "colab": {
          "base_uri": "https://localhost:8080/"
        },
        "id": "6WGAtw1uBh8k",
        "outputId": "c5778859-043d-4973-b0ea-2f754eacea55"
      },
      "execution_count": 62,
      "outputs": [
        {
          "output_type": "stream",
          "name": "stderr",
          "text": [
            "2025-07-27 09:19:00.397 Thread 'MainThread': missing ScriptRunContext! This warning can be ignored when running in bare mode.\n",
            "2025-07-27 09:19:00.398 Thread 'MainThread': missing ScriptRunContext! This warning can be ignored when running in bare mode.\n",
            "2025-07-27 09:19:00.399 Thread 'MainThread': missing ScriptRunContext! This warning can be ignored when running in bare mode.\n"
          ]
        },
        {
          "output_type": "execute_result",
          "data": {
            "text/plain": [
              "DeltaGenerator()"
            ]
          },
          "metadata": {},
          "execution_count": 62
        }
      ]
    },
    {
      "cell_type": "markdown",
      "source": [
        "#Sidebar inputs"
      ],
      "metadata": {
        "id": "qf0eKvJgDL4V"
      }
    },
    {
      "cell_type": "code",
      "source": [
        "\n",
        "st.sidebar.header(\"F.S ANALYTICS LiveCoding\")\n",
        "ticker_symbol = st.sidebar.text_input(\"Enter Stock Ticker (e.g., AAPL, MSFT)\", value=\"MSFT\")\n",
        "start_date = st.sidebar.date_input(\"Start Date\", value=pd.to_datetime(\"2020-01-01\"))\n",
        "end_date = st.sidebar.date_input(\"End Date\", value=pd.to_datetime(\"2025-06-30\"))\n",
        "ma_window = st.sidebar.slider(\"Moving Average Window\", min_value=5, max_value=50,\n",
        "value=20)"
      ],
      "metadata": {
        "colab": {
          "base_uri": "https://localhost:8080/"
        },
        "id": "OZ9R3hBMDKQt",
        "outputId": "78acaa74-714c-4c2a-b39d-bb390201e6dd"
      },
      "execution_count": 63,
      "outputs": [
        {
          "output_type": "stream",
          "name": "stderr",
          "text": [
            "2025-07-27 09:19:00.410 Thread 'MainThread': missing ScriptRunContext! This warning can be ignored when running in bare mode.\n",
            "2025-07-27 09:19:00.410 Thread 'MainThread': missing ScriptRunContext! This warning can be ignored when running in bare mode.\n",
            "2025-07-27 09:19:00.412 Thread 'MainThread': missing ScriptRunContext! This warning can be ignored when running in bare mode.\n",
            "2025-07-27 09:19:00.413 Thread 'MainThread': missing ScriptRunContext! This warning can be ignored when running in bare mode.\n",
            "2025-07-27 09:19:00.414 Thread 'MainThread': missing ScriptRunContext! This warning can be ignored when running in bare mode.\n",
            "2025-07-27 09:19:00.415 Thread 'MainThread': missing ScriptRunContext! This warning can be ignored when running in bare mode.\n",
            "2025-07-27 09:19:00.416 Thread 'MainThread': missing ScriptRunContext! This warning can be ignored when running in bare mode.\n",
            "2025-07-27 09:19:00.417 Thread 'MainThread': missing ScriptRunContext! This warning can be ignored when running in bare mode.\n",
            "2025-07-27 09:19:00.418 Thread 'MainThread': missing ScriptRunContext! This warning can be ignored when running in bare mode.\n",
            "2025-07-27 09:19:00.418 Thread 'MainThread': missing ScriptRunContext! This warning can be ignored when running in bare mode.\n",
            "2025-07-27 09:19:00.420 Thread 'MainThread': missing ScriptRunContext! This warning can be ignored when running in bare mode.\n",
            "2025-07-27 09:19:00.421 Thread 'MainThread': missing ScriptRunContext! This warning can be ignored when running in bare mode.\n",
            "2025-07-27 09:19:00.421 Thread 'MainThread': missing ScriptRunContext! This warning can be ignored when running in bare mode.\n",
            "2025-07-27 09:19:00.422 Thread 'MainThread': missing ScriptRunContext! This warning can be ignored when running in bare mode.\n",
            "2025-07-27 09:19:00.423 Thread 'MainThread': missing ScriptRunContext! This warning can be ignored when running in bare mode.\n",
            "2025-07-27 09:19:00.424 Thread 'MainThread': missing ScriptRunContext! This warning can be ignored when running in bare mode.\n",
            "2025-07-27 09:19:00.425 Thread 'MainThread': missing ScriptRunContext! This warning can be ignored when running in bare mode.\n",
            "2025-07-27 09:19:00.426 Thread 'MainThread': missing ScriptRunContext! This warning can be ignored when running in bare mode.\n",
            "2025-07-27 09:19:00.427 Thread 'MainThread': missing ScriptRunContext! This warning can be ignored when running in bare mode.\n",
            "2025-07-27 09:19:00.427 Thread 'MainThread': missing ScriptRunContext! This warning can be ignored when running in bare mode.\n",
            "2025-07-27 09:19:00.428 Thread 'MainThread': missing ScriptRunContext! This warning can be ignored when running in bare mode.\n",
            "2025-07-27 09:19:00.429 Thread 'MainThread': missing ScriptRunContext! This warning can be ignored when running in bare mode.\n",
            "2025-07-27 09:19:00.429 Thread 'MainThread': missing ScriptRunContext! This warning can be ignored when running in bare mode.\n",
            "2025-07-27 09:19:00.430 Thread 'MainThread': missing ScriptRunContext! This warning can be ignored when running in bare mode.\n",
            "2025-07-27 09:19:00.430 Thread 'MainThread': missing ScriptRunContext! This warning can be ignored when running in bare mode.\n",
            "2025-07-27 09:19:00.431 Thread 'MainThread': missing ScriptRunContext! This warning can be ignored when running in bare mode.\n",
            "2025-07-27 09:19:00.432 Thread 'MainThread': missing ScriptRunContext! This warning can be ignored when running in bare mode.\n",
            "2025-07-27 09:19:00.432 Thread 'MainThread': missing ScriptRunContext! This warning can be ignored when running in bare mode.\n"
          ]
        }
      ]
    },
    {
      "cell_type": "markdown",
      "source": [
        "# Fetching data"
      ],
      "metadata": {
        "id": "1QI7AllND3T-"
      }
    },
    {
      "cell_type": "code",
      "metadata": {
        "colab": {
          "base_uri": "https://localhost:8080/"
        },
        "id": "f27c46e5",
        "outputId": "ab8a0742-cdc6-4046-dcfa-93eaea42f26c"
      },
      "source": [
        "%%writefile app.py\n",
        "\n",
        "st.title(\"Stock Data Dashboard 📈\")\n",
        "\n",
        "st.sidebar.header(\"F.S ANALYTICS LiveCoding\")\n",
        "ticker_symbol = st.sidebar.text_input(\"Enter Stock Ticker (e.g., AAPL, MSFT)\", value=\"MSFT\")\n",
        "start_date = st.sidebar.date_input(\"Start Date\", value=pd.to_datetime(\"2020-01-01\"))\n",
        "end_date = st.sidebar.date_input(\"End Date\", value=pd.to_datetime(\"2024-12-31\"))\n",
        "ma_window = st.sidebar.slider(\"Moving Average Window\", min_value=5, max_value=50, value=20)\n",
        "\n",
        "st.write(f\"Fetching data for **{ticker_symbol}** from {start_date} to {end_date}...\")\n",
        "data = yf.download(ticker_symbol, start=start_date, end=end_date)\n",
        "\n",
        "if data.empty:\n",
        "    st.error(\"No data found. Please check the ticker symbol or date range.\")\n",
        "    st.stop()\n",
        "\n",
        "data['MA'] = data['Close'].rolling(window=ma_window).mean()"
      ],
      "execution_count": 64,
      "outputs": [
        {
          "output_type": "stream",
          "name": "stdout",
          "text": [
            "Overwriting app.py\n"
          ]
        }
      ]
    },
    {
      "cell_type": "markdown",
      "source": [
        "#Initialize Tabs"
      ],
      "metadata": {
        "id": "BtelXAqoFJhJ"
      }
    },
    {
      "cell_type": "code",
      "source": [
        "tabs = st.tabs([\"📋 Raw Data\", \"📈 Price Chart\", \"📊 Volume Chart\", \"📏 Moving Averages\", \"💰 Dividends & Splits\"])"
      ],
      "metadata": {
        "colab": {
          "base_uri": "https://localhost:8080/"
        },
        "id": "eedrSE6fFCOT",
        "outputId": "9b7be6da-2c1d-4701-df5c-fdb1b6b9c324"
      },
      "execution_count": 65,
      "outputs": [
        {
          "output_type": "stream",
          "name": "stderr",
          "text": [
            "2025-07-27 09:19:00.444 Thread 'MainThread': missing ScriptRunContext! This warning can be ignored when running in bare mode.\n",
            "2025-07-27 09:19:00.445 Thread 'MainThread': missing ScriptRunContext! This warning can be ignored when running in bare mode.\n",
            "2025-07-27 09:19:00.446 Thread 'MainThread': missing ScriptRunContext! This warning can be ignored when running in bare mode.\n",
            "2025-07-27 09:19:00.446 Thread 'MainThread': missing ScriptRunContext! This warning can be ignored when running in bare mode.\n",
            "2025-07-27 09:19:00.447 Thread 'MainThread': missing ScriptRunContext! This warning can be ignored when running in bare mode.\n",
            "2025-07-27 09:19:00.447 Thread 'MainThread': missing ScriptRunContext! This warning can be ignored when running in bare mode.\n"
          ]
        }
      ]
    },
    {
      "cell_type": "code",
      "source": [
        "# Tab 1: Raw Data\n",
        "with tabs[0]:\n",
        "    st.subheader(f\"Raw Data for {ticker_symbol}\")\n",
        "    st.write(data.tail())\n",
        "    st.download_button(\"Download Data as CSV\", data.to_csv(),\n",
        "    file_name=f\"{ticker_symbol}_data.csv\")"
      ],
      "metadata": {
        "colab": {
          "base_uri": "https://localhost:8080/"
        },
        "id": "Wp6VBK17GQlm",
        "outputId": "986797e9-8c9b-450f-8a21-78c9becf03ce"
      },
      "execution_count": 66,
      "outputs": [
        {
          "output_type": "stream",
          "name": "stderr",
          "text": [
            "2025-07-27 09:19:00.453 Thread 'MainThread': missing ScriptRunContext! This warning can be ignored when running in bare mode.\n",
            "2025-07-27 09:19:00.454 Thread 'MainThread': missing ScriptRunContext! This warning can be ignored when running in bare mode.\n",
            "2025-07-27 09:19:00.455 Thread 'MainThread': missing ScriptRunContext! This warning can be ignored when running in bare mode.\n",
            "2025-07-27 09:19:00.458 Thread 'MainThread': missing ScriptRunContext! This warning can be ignored when running in bare mode.\n",
            "2025-07-27 09:19:00.462 Thread 'MainThread': missing ScriptRunContext! This warning can be ignored when running in bare mode.\n",
            "2025-07-27 09:19:00.463 Thread 'MainThread': missing ScriptRunContext! This warning can be ignored when running in bare mode.\n",
            "2025-07-27 09:19:00.478 Thread 'MainThread': missing ScriptRunContext! This warning can be ignored when running in bare mode.\n",
            "2025-07-27 09:19:00.478 Thread 'MainThread': missing ScriptRunContext! This warning can be ignored when running in bare mode.\n",
            "2025-07-27 09:19:00.479 Thread 'MainThread': missing ScriptRunContext! This warning can be ignored when running in bare mode.\n",
            "2025-07-27 09:19:00.480 Thread 'MainThread': missing ScriptRunContext! This warning can be ignored when running in bare mode.\n",
            "2025-07-27 09:19:00.481 Thread 'MainThread': missing ScriptRunContext! This warning can be ignored when running in bare mode.\n",
            "2025-07-27 09:19:00.482 Thread 'MainThread': missing ScriptRunContext! This warning can be ignored when running in bare mode.\n",
            "2025-07-27 09:19:00.483 Thread 'MainThread': missing ScriptRunContext! This warning can be ignored when running in bare mode.\n"
          ]
        }
      ]
    },
    {
      "cell_type": "code",
      "source": [
        "# Tab 2: Closing Price Chart\n",
        "with tabs[1]:\n",
        "    if \"Close\" in data:\n",
        "        st.subheader(\"Closing Price Over Time\")\n",
        "        st.line_chart(data['Close'])\n",
        "    else:\n",
        "        st.warning(\"Closing price data is not available for this stock.\")"
      ],
      "metadata": {
        "colab": {
          "base_uri": "https://localhost:8080/"
        },
        "id": "q-y9oQu2Gv3N",
        "outputId": "2fa3b7fd-27f4-4b7f-d24c-3e876e47e3f1"
      },
      "execution_count": 67,
      "outputs": [
        {
          "output_type": "stream",
          "name": "stderr",
          "text": [
            "2025-07-27 09:19:00.488 Thread 'MainThread': missing ScriptRunContext! This warning can be ignored when running in bare mode.\n",
            "2025-07-27 09:19:00.490 Thread 'MainThread': missing ScriptRunContext! This warning can be ignored when running in bare mode.\n",
            "2025-07-27 09:19:00.491 Thread 'MainThread': missing ScriptRunContext! This warning can be ignored when running in bare mode.\n",
            "2025-07-27 09:19:00.541 Thread 'MainThread': missing ScriptRunContext! This warning can be ignored when running in bare mode.\n",
            "2025-07-27 09:19:00.542 Thread 'MainThread': missing ScriptRunContext! This warning can be ignored when running in bare mode.\n",
            "2025-07-27 09:19:00.542 Thread 'MainThread': missing ScriptRunContext! This warning can be ignored when running in bare mode.\n"
          ]
        }
      ]
    },
    {
      "cell_type": "code",
      "metadata": {
        "colab": {
          "base_uri": "https://localhost:8080/"
        },
        "id": "e51a3e08",
        "outputId": "901e5e6a-0f91-41af-e253-2f5cd94e15a6"
      },
      "source": [
        "%%writefile app.py\n",
        "import streamlit as st\n",
        "import yfinance as yf\n",
        "import pandas as pd\n",
        "import matplotlib.pyplot as plt\n",
        "\n",
        "st.title(\"Stock Data Dashboard 📈\")\n",
        "\n",
        "st.sidebar.header(\"F.S ANALYTICS LiveCoding\")\n",
        "ticker_symbol = st.sidebar.text_input(\"Enter Stock Ticker (e.g., AAPL, MSFT)\", value=\"MSFT\")\n",
        "start_date = st.sidebar.date_input(\"Start Date\", value=pd.to_datetime(\"2020-01-01\"))\n",
        "end_date = st.sidebar.date_input(\"End Date\", value=pd.to_datetime(\"2024-12-31\"))\n",
        "ma_window = st.sidebar.slider(\"Moving Average Window\", min_value=5, max_value=50, value=20)\n",
        "\n",
        "st.write(f\"Fetching data for **{ticker_symbol}** from {start_date} to {end_date}...\")\n",
        "data = yf.download(ticker_symbol, start=start_date, end=end_date)\n",
        "\n",
        "if data.empty:\n",
        "    st.error(\"No data found. Please check the ticker symbol or date range.\")\n",
        "    st.stop()\n",
        "\n",
        "data['MA'] = data['Close'].rolling(window=ma_window).mean()\n",
        "\n",
        "tabs = st.tabs([\"📋 Raw Data\", \"📈 Price Chart\", \"📊 Volume Chart\", \"📏 Moving Averages\", \"💰 Dividends & Splits\"])\n",
        "\n",
        "with tabs[0]:\n",
        "    st.subheader(f\"Raw Data for {ticker_symbol}\")\n",
        "    st.write(data.tail())\n",
        "    st.download_button(\"Download Data as CSV\", data.to_csv(),\n",
        "    file_name=f\"{ticker_symbol}_data.csv\")\n",
        "\n",
        "with tabs[1]:\n",
        "    if \"Close\" in data:\n",
        "        st.subheader(\"Closing Price Over Time\")\n",
        "        st.line_chart(data['Close'])\n",
        "    else:\n",
        "        st.warning(\"Closing price data is not available for this stock.\")\n",
        "\n",
        "        # Tab 2: Volume Chart\n",
        "with tabs[2]:\n",
        "    if \"Volume\" in data:\n",
        "        st.subheader(\"Volume Over Time\")\n",
        "        st.bar_chart(data['Volume'])\n",
        "    else:\n",
        "        st.warning(\"Volume data is not available for this stock.\")\n",
        "\n",
        "# Tab 3: Moving Averages\n",
        "with tabs[3]:\n",
        "    st.subheader(f\"Closing Price with {ma_window}-Day Moving Average\")\n",
        "    fig, ax = plt.subplots(figsize=(10, 5))\n",
        "    ax.plot(data.index, data['Close'], label=\"Closing Price\", color='blue')\n",
        "    ax.plot(data.index, data['MA'], label=f\"{ma_window}-Day Moving Average\", color='orange')\n",
        "    ax.set_title(f\"Closing Price with {ma_window}-Day Moving Average\")\n",
        "    ax.set_xlabel(\"Date\")\n",
        "    ax.set_ylabel(\"Price\")\n",
        "    ax.legend()\n",
        "    st.pyplot(fig)\n",
        "\n",
        "# Tab 4: Dividends & Splits\n",
        "with tabs[4]:\n",
        "    st.subheader(\"Dividends & Splits\")\n",
        "    ticker = yf.Ticker(ticker_symbol)\n",
        "    dividends = ticker.dividends\n",
        "    splits = ticker.splits\n",
        "\n",
        "    st.write(\"**Dividends:**\")\n",
        "    st.write(dividends if not dividends.empty else \"No dividends found during this period.\")\n",
        "    st.write(\"**Splits:**\")\n",
        "    st.write(splits if not splits.empty else \"No splits found during this period.\")"
      ],
      "execution_count": 68,
      "outputs": [
        {
          "output_type": "stream",
          "name": "stdout",
          "text": [
            "Overwriting app.py\n"
          ]
        }
      ]
    },
    {
      "cell_type": "code",
      "source": [
        "!streamlit run app.py &>/dev/null&\n",
        "\n",
        "!pip install pyngrok\n",
        "from pyngrok import ngrok\n",
        "\n",
        "# Terminate open tunnels if any\n",
        "ngrok.kill()\n",
        "\n",
        "# Setting the authtoken (replace with your ngrok token)\n",
        "NGROK_AUTH_TOKEN = \"306C7t5UsqOXbSwRzS0Ao8yK76C_PBnM1cyuGZsryjoCFcYa\"  # Replace with your actual ngrok token\n",
        "ngrok.set_auth_token(NGROK_AUTH_TOKEN)\n",
        "\n",
        "# Open an HTTP tunnel on the default port 8501\n",
        "public_url = ngrok.connect(8501)\n",
        "print(f\"Streamlit App URL: {public_url}\")"
      ],
      "metadata": {
        "colab": {
          "base_uri": "https://localhost:8080/"
        },
        "id": "zN6d2UlsIZ35",
        "outputId": "798164de-4f2f-4d61-f97d-75be8344af37"
      },
      "execution_count": 69,
      "outputs": [
        {
          "output_type": "stream",
          "name": "stdout",
          "text": [
            "Requirement already satisfied: pyngrok in /usr/local/lib/python3.11/dist-packages (7.2.12)\n",
            "Requirement already satisfied: PyYAML>=5.1 in /usr/local/lib/python3.11/dist-packages (from pyngrok) (6.0.2)\n",
            "Streamlit App URL: NgrokTunnel: \"https://644fb8d003e4.ngrok-free.app\" -> \"http://localhost:8501\"\n"
          ]
        }
      ]
    }
  ]
}